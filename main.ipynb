{
 "cells": [
  {
   "cell_type": "markdown",
   "metadata": {},
   "source": [
    "# Julia - Getting Started\n",
    "source: https://docs.julialang.org/en/v1/manual/getting-started/\n",
    "\n",
    "source2: https://www.matecdev.com/posts/julia-numerical-arrays.html"
   ]
  },
  {
   "cell_type": "code",
   "execution_count": 6,
   "metadata": {},
   "outputs": [
    {
     "data": {
      "text/plain": [
       "42"
      ]
     },
     "execution_count": 6,
     "metadata": {},
     "output_type": "execute_result"
    }
   ],
   "source": [
    "x = 21 + 21"
   ]
  },
  {
   "cell_type": "code",
   "execution_count": 11,
   "metadata": {},
   "outputs": [],
   "source": [
    "# trailing ';' -> supress output\n",
    "x ^ x;"
   ]
  },
  {
   "cell_type": "code",
   "execution_count": 12,
   "metadata": {},
   "outputs": [
    {
     "data": {
      "text/plain": [
       "4121466560160202752"
      ]
     },
     "execution_count": 12,
     "metadata": {},
     "output_type": "execute_result"
    }
   ],
   "source": [
    "# ans -> last evaluated value (interactive mode only)\n",
    "ans"
   ]
  },
  {
   "cell_type": "code",
   "execution_count": 18,
   "metadata": {},
   "outputs": [
    {
     "name": "stdout",
     "output_type": "stream",
     "text": [
      "Float64\n",
      "String"
     ]
    }
   ],
   "source": [
    "# dynamic typing - just like python\n",
    "a = 12.32\n",
    "println(typeof(a))\n",
    "\n",
    "a = \"12.32\"\n",
    "print(typeof(a))"
   ]
  },
  {
   "cell_type": "code",
   "execution_count": 22,
   "metadata": {},
   "outputs": [
    {
     "name": "stdout",
     "output_type": "stream",
     "text": [
      "42.0\n",
      "42\n"
     ]
    }
   ],
   "source": [
    "# type casting\n",
    "\n",
    "# int to float\n",
    "i = 42\n",
    "fi = Float64(i)\n",
    "println(fi)\n",
    "\n",
    "# float to int\n",
    "fi += 0.1233123\n",
    "# no narrowing conversion!\n",
    "# n = Int64(fi) -> will throw\n",
    "n = Int32(floor(fi))\n",
    "println(n)"
   ]
  },
  {
   "cell_type": "code",
   "execution_count": 29,
   "metadata": {},
   "outputs": [
    {
     "name": "stdout",
     "output_type": "stream",
     "text": [
      "0.5\n",
      "0\n",
      "1\n"
     ]
    }
   ],
   "source": [
    "# division\n",
    "\n",
    "# regular \n",
    "println(1/2)\n",
    "\n",
    "# int division\n",
    "println(div(1,2))\n",
    "# modulo\n",
    "println(rem(1,2))"
   ]
  },
  {
   "cell_type": "code",
   "execution_count": 30,
   "metadata": {},
   "outputs": [
    {
     "data": {
      "text/plain": [
       "0"
      ]
     },
     "execution_count": 30,
     "metadata": {},
     "output_type": "execute_result"
    }
   ],
   "source": [
    "# overflow returns 0\n",
    "2^64"
   ]
  },
  {
   "cell_type": "code",
   "execution_count": 32,
   "metadata": {},
   "outputs": [
    {
     "data": {
      "text/plain": [
       "false"
      ]
     },
     "execution_count": 32,
     "metadata": {},
     "output_type": "execute_result"
    }
   ],
   "source": [
    "# boolean\n",
    "t = true\n",
    "f = false"
   ]
  },
  {
   "cell_type": "code",
   "execution_count": 34,
   "metadata": {},
   "outputs": [
    {
     "data": {
      "text/plain": [
       "false"
      ]
     },
     "execution_count": 34,
     "metadata": {},
     "output_type": "execute_result"
    }
   ],
   "source": [
    "t && f"
   ]
  },
  {
   "cell_type": "code",
   "execution_count": 35,
   "metadata": {},
   "outputs": [
    {
     "data": {
      "text/plain": [
       "true"
      ]
     },
     "execution_count": 35,
     "metadata": {},
     "output_type": "execute_result"
    }
   ],
   "source": [
    "t || f"
   ]
  },
  {
   "cell_type": "code",
   "execution_count": 36,
   "metadata": {},
   "outputs": [
    {
     "data": {
      "text/plain": [
       "true"
      ]
     },
     "execution_count": 36,
     "metadata": {},
     "output_type": "execute_result"
    }
   ],
   "source": [
    "!f"
   ]
  },
  {
   "cell_type": "code",
   "execution_count": 37,
   "metadata": {},
   "outputs": [
    {
     "data": {
      "text/plain": [
       "false"
      ]
     },
     "execution_count": 37,
     "metadata": {},
     "output_type": "execute_result"
    }
   ],
   "source": [
    "# short circuit operator - doesnt evaluate t because of f\n",
    "f && t"
   ]
  },
  {
   "cell_type": "code",
   "execution_count": 39,
   "metadata": {},
   "outputs": [
    {
     "data": {
      "text/plain": [
       "2"
      ]
     },
     "execution_count": 39,
     "metadata": {},
     "output_type": "execute_result"
    }
   ],
   "source": [
    "# booleans are just ints\n",
    "2 * t"
   ]
  },
  {
   "cell_type": "code",
   "execution_count": 43,
   "metadata": {},
   "outputs": [
    {
     "name": "stdout",
     "output_type": "stream",
     "text": [
      "String\n",
      "Char\n"
     ]
    }
   ],
   "source": [
    "# strings and chars\n",
    "s = \"foo\"\n",
    "println(typeof(s))\n",
    "c = 's'\n",
    "println(typeof(c))\n"
   ]
  },
  {
   "cell_type": "code",
   "execution_count": 45,
   "metadata": {},
   "outputs": [
    {
     "data": {
      "text/plain": [
       "\"Hello World\""
      ]
     },
     "execution_count": 45,
     "metadata": {},
     "output_type": "execute_result"
    }
   ],
   "source": [
    "# string concat\n",
    "\n",
    "a = \"Hello\"\n",
    "b = ' '\n",
    "c = \"World\"\n",
    "\n",
    "a * b * c\n",
    "# or\n",
    "string(a, b, c)"
   ]
  },
  {
   "cell_type": "code",
   "execution_count": 50,
   "metadata": {},
   "outputs": [
    {
     "data": {
      "text/plain": [
       "\"the answer is 42\""
      ]
     },
     "execution_count": 50,
     "metadata": {},
     "output_type": "execute_result"
    }
   ],
   "source": [
    "# string interpolation\n",
    "\n",
    "\"the answer is $(2*21)\""
   ]
  },
  {
   "cell_type": "code",
   "execution_count": 54,
   "metadata": {},
   "outputs": [
    {
     "name": "stdout",
     "output_type": "stream",
     "text": [
      "12345678910\n",
      "12345678910"
     ]
    }
   ],
   "source": [
    "# for loops\n",
    "\n",
    "for it in 1:10  # inclusive\n",
    "    print(it)\n",
    "end\n",
    "\n",
    "println()\n",
    "\n",
    "for it in range(1,10) # the same...\n",
    "    print(it)\n",
    "end"
   ]
  },
  {
   "cell_type": "code",
   "execution_count": 75,
   "metadata": {},
   "outputs": [
    {
     "data": {
      "text/plain": [
       "is_prime (generic function with 1 method)"
      ]
     },
     "execution_count": 75,
     "metadata": {},
     "output_type": "execute_result"
    }
   ],
   "source": [
    "# functions\n",
    "\n",
    "function is_prime(n)\n",
    "    if n < 2\n",
    "        return false\n",
    "    end\n",
    "    if n == 2\n",
    "        return true\n",
    "    end\n",
    "    for i in 2:floor(sqrt(n)+1)\n",
    "        if rem(n,i) == 0\n",
    "            return false\n",
    "        end\n",
    "    end\n",
    "    return true \n",
    "end"
   ]
  },
  {
   "cell_type": "code",
   "execution_count": 76,
   "metadata": {},
   "outputs": [
    {
     "data": {
      "text/plain": [
       "13-element Vector{Any}:\n",
       "  2\n",
       "  3\n",
       "  5\n",
       "  7\n",
       " 11\n",
       " 13\n",
       " 17\n",
       " 19\n",
       " 23\n",
       " 29\n",
       " 31\n",
       " 37\n",
       " 41"
      ]
     },
     "execution_count": 76,
     "metadata": {},
     "output_type": "execute_result"
    }
   ],
   "source": [
    "primes = []\n",
    "for i in 0:42\n",
    "    if is_prime(i)\n",
    "        push!(primes, i)\n",
    "    end\n",
    "end\n",
    "\n",
    "primes"
   ]
  },
  {
   "cell_type": "code",
   "execution_count": 79,
   "metadata": {},
   "outputs": [
    {
     "name": "stdout",
     "output_type": "stream",
     "text": [
      "positional argument: 42\n",
      "keyword argument: 1331\n"
     ]
    }
   ],
   "source": [
    "# keyword arguments are seperated from positional arguments by \";\"\n",
    "function keyword_args(foo; bar)\n",
    "    println(\"positional argument: $(foo)\")\n",
    "    println(\"keyword argument: $(bar)\")\n",
    "end\n",
    "\n",
    "keyword_args(42; bar=1331)"
   ]
  },
  {
   "cell_type": "code",
   "execution_count": 85,
   "metadata": {},
   "outputs": [
    {
     "name": "stdout",
     "output_type": "stream",
     "text": [
      "x = [42]\n",
      "x = [43]\n"
     ]
    }
   ],
   "source": [
    "# objects are passed by value\n",
    "\n",
    "x = [42]\n",
    "println(\"x = $(x)\")\n",
    "\n",
    "function add_1!(val)    # <func_name>! is a convention for functions with side effects\n",
    "    val .= val .+ 1     # broadcasting notation\n",
    "end\n",
    "\n",
    "add_1(x)\n",
    "println(\"x = $(x)\")"
   ]
  },
  {
   "cell_type": "code",
   "execution_count": 90,
   "metadata": {},
   "outputs": [
    {
     "data": {
      "text/plain": [
       "42"
      ]
     },
     "execution_count": 90,
     "metadata": {},
     "output_type": "execute_result"
    }
   ],
   "source": [
    "# anonymous (lambda) functions\n",
    "f = x -> x+1\n",
    "f(41)"
   ]
  },
  {
   "cell_type": "code",
   "execution_count": 95,
   "metadata": {},
   "outputs": [],
   "source": [
    "struct Point\n",
    "    x::Number\n",
    "    y::Number\n",
    "end"
   ]
  },
  {
   "cell_type": "code",
   "execution_count": 99,
   "metadata": {},
   "outputs": [
    {
     "ename": "LoadError",
     "evalue": "syntax: extra token \"julia\" after end of expression",
     "output_type": "error",
     "traceback": [
      "syntax: extra token \"julia\" after end of expression",
      "",
      "Stacktrace:",
      " [1] top-level scope",
      "   @ In[99]:1",
      " [2] eval",
      "   @ ./boot.jl:373 [inlined]",
      " [3] include_string(mapexpr::typeof(REPL.softscope), mod::Module, code::String, filename::String)",
      "   @ Base ./loading.jl:1196"
     ]
    }
   ],
   "source": [
    "! which julia"
   ]
  },
  {
   "cell_type": "code",
   "execution_count": 97,
   "metadata": {},
   "outputs": [
    {
     "ename": "LoadError",
     "evalue": "ArgumentError: Package Plots not found in current path:\n- Run `import Pkg; Pkg.add(\"Plots\")` to install the Plots package.\n",
     "output_type": "error",
     "traceback": [
      "ArgumentError: Package Plots not found in current path:\n- Run `import Pkg; Pkg.add(\"Plots\")` to install the Plots package.\n",
      "",
      "Stacktrace:",
      " [1] require(into::Module, mod::Symbol)",
      "   @ Base ./loading.jl:967",
      " [2] eval",
      "   @ ./boot.jl:373 [inlined]",
      " [3] include_string(mapexpr::typeof(REPL.softscope), mod::Module, code::String, filename::String)",
      "   @ Base ./loading.jl:1196"
     ]
    }
   ],
   "source": [
    "using Plots\n",
    "Point(12,42)"
   ]
  }
 ],
 "metadata": {
  "kernelspec": {
   "display_name": "Julia 1.7.3",
   "language": "julia",
   "name": "julia-1.7"
  },
  "language_info": {
   "file_extension": ".jl",
   "mimetype": "application/julia",
   "name": "julia",
   "version": "1.7.3"
  },
  "orig_nbformat": 4,
  "vscode": {
   "interpreter": {
    "hash": "de15a1b20664b7d367248e7d9ab99da5bf6d2d99240c9fb4132a5531fb844c62"
   }
  }
 },
 "nbformat": 4,
 "nbformat_minor": 2
}
